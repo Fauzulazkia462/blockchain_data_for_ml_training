{
 "cells": [
  {
   "cell_type": "code",
   "execution_count": null,
   "id": "c6a4dd4b",
   "metadata": {},
   "outputs": [],
   "source": [
    "import os\n",
    "import json\n",
    "import time\n",
    "import requests\n",
    "import pandas as pd\n",
    "from datetime import datetime\n",
    "from statistics import stdev as std\n",
    "from collections import Counter\n",
    "from concurrent.futures import ThreadPoolExecutor, as_completed\n",
    "from tqdm.notebook import tqdm"
   ]
  },
  {
   "cell_type": "code",
   "execution_count": 24,
   "id": "0a0f1049",
   "metadata": {},
   "outputs": [],
   "source": [
    "ETHERSCAN_API = \"https://api.etherscan.io/api\"\n",
    "ETHERSCAN_KEY = os.getenv(\"ETHERSCAN_API_KEY\") or \"ISI_API_KEY_KAMU_DI_SINI\"\n",
    "CACHE_FILE = \"features_cache.json\"\n",
    "MAX_WORKERS = 5\n",
    "RATE_LIMIT_DELAY = 0.25"
   ]
  },
  {
   "cell_type": "code",
   "execution_count": 25,
   "id": "387a3fe1",
   "metadata": {},
   "outputs": [],
   "source": [
    "if os.path.exists(CACHE_FILE):\n",
    "    with open(CACHE_FILE, \"r\") as f:\n",
    "        features = json.load(f)\n",
    "else:\n",
    "    features = []\n",
    "\n",
    "# Sudah diproses\n",
    "processed_addresses = {item['address'] for item in features}"
   ]
  },
  {
   "cell_type": "code",
   "execution_count": 26,
   "id": "b572b340",
   "metadata": {},
   "outputs": [],
   "source": [
    "def get_transactions(address: str):\n",
    "    params = {\n",
    "        \"module\": \"account\",\n",
    "        \"action\": \"txlist\",\n",
    "        \"address\": address,\n",
    "        \"startblock\": 0,\n",
    "        \"endblock\": 99999999,\n",
    "        \"sort\": \"asc\",\n",
    "        \"apikey\": ETHERSCAN_KEY\n",
    "    }\n",
    "    try:\n",
    "        response = requests.get(ETHERSCAN_API, params=params, timeout=10)\n",
    "        data = response.json()\n",
    "        if data[\"status\"] != \"1\":\n",
    "            return []\n",
    "        return data[\"result\"]\n",
    "    except Exception as e:\n",
    "        print(f\"Error getting txs for {address}: {e}\")\n",
    "        return []\n",
    "\n",
    "def extract_features(wallet: str):\n",
    "    txs = get_transactions(wallet)\n",
    "    if not txs:\n",
    "        return None\n",
    "\n",
    "    try:\n",
    "        dates = [datetime.fromtimestamp(int(tx[\"timeStamp\"])).date() for tx in txs]\n",
    "        block_numbers = [int(tx[\"blockNumber\"]) for tx in txs]\n",
    "        amounts = [int(tx[\"value\"]) / 1e18 for tx in txs]\n",
    "        hours = [datetime.fromtimestamp(int(tx[\"timeStamp\"])).hour for tx in txs]\n",
    "        counterparties = set(tx[\"to\"] for tx in txs if tx[\"to\"])\n",
    "\n",
    "        tx_per_block = Counter(block_numbers)\n",
    "        date_in = {datetime.fromtimestamp(int(tx[\"timeStamp\"])).date()\n",
    "                   for tx in txs if tx[\"to\"].lower() == wallet.lower()}\n",
    "        date_out = {datetime.fromtimestamp(int(tx[\"timeStamp\"])).date()\n",
    "                    for tx in txs if tx[\"from\"].lower() == wallet.lower()}\n",
    "        same_day_in_out = len(date_in & date_out)\n",
    "\n",
    "        def most_common(arr):\n",
    "            return Counter(arr).most_common(1)[0][0] if arr else None\n",
    "\n",
    "        feats = dict(\n",
    "            chain=\"ETH\",\n",
    "            address=wallet,\n",
    "            tx_total=len(txs),\n",
    "            avg_tx_per_day=round(len(txs) / len(set(dates)), 2),\n",
    "            avg_tx_per_block=round(len(txs) / len(set(block_numbers)), 4) if block_numbers else 0,\n",
    "            max_tx_per_block=max(tx_per_block.values()) if tx_per_block else 0,\n",
    "            min_tx_per_block=min(tx_per_block.values()) if tx_per_block else 0,\n",
    "            std_tx_amount=round(std(amounts), 6) if len(amounts) > 1 else 0,\n",
    "            tx_between_00_04=round(sum(1 for h in hours if 0 <= h < 4) / len(txs), 4),\n",
    "            num_unique_counterparties=len(counterparties),\n",
    "            same_day_deposit_withdraw=int(same_day_in_out > 0),\n",
    "            most_common_amount=most_common(amounts),\n",
    "        )\n",
    "\n",
    "        return feats\n",
    "    except Exception as e:\n",
    "        print(f\"Error extracting features for {wallet}: {e}\")\n",
    "        return None"
   ]
  },
  {
   "cell_type": "code",
   "execution_count": 27,
   "id": "d1fd6ee0",
   "metadata": {},
   "outputs": [],
   "source": [
    "def process_wallet(wallet):\n",
    "    if wallet in processed_addresses:\n",
    "        return None  # sudah diproses\n",
    "\n",
    "    feats = extract_features(wallet)\n",
    "    time.sleep(RATE_LIMIT_DELAY)\n",
    "    return feats"
   ]
  },
  {
   "cell_type": "code",
   "execution_count": 28,
   "id": "a76d6649",
   "metadata": {},
   "outputs": [],
   "source": [
    "df = pd.read_csv(\"../datasets/ETH/gambling_address_dataset.csv\")"
   ]
  },
  {
   "cell_type": "code",
   "execution_count": 29,
   "id": "caf94a94",
   "metadata": {},
   "outputs": [
    {
     "data": {
      "text/plain": [
       "address_hash    90346\n",
       "address_type    90346\n",
       "dtype: int64"
      ]
     },
     "execution_count": 29,
     "metadata": {},
     "output_type": "execute_result"
    }
   ],
   "source": [
    "df.count()"
   ]
  },
  {
   "cell_type": "code",
   "execution_count": 30,
   "id": "79c7a13a",
   "metadata": {},
   "outputs": [],
   "source": [
    "index_to_drop = df[df['address_type'] == -1].index"
   ]
  },
  {
   "cell_type": "code",
   "execution_count": 31,
   "id": "946b4196",
   "metadata": {},
   "outputs": [],
   "source": [
    "if not index_to_drop.empty:\n",
    "    df = df.drop(index_to_drop[0])"
   ]
  },
  {
   "cell_type": "code",
   "execution_count": 32,
   "id": "2f0ff482",
   "metadata": {},
   "outputs": [
    {
     "data": {
      "text/plain": [
       "address_hash    90345\n",
       "address_type    90345\n",
       "dtype: int64"
      ]
     },
     "execution_count": 32,
     "metadata": {},
     "output_type": "execute_result"
    }
   ],
   "source": [
    "df.count()"
   ]
  },
  {
   "cell_type": "code",
   "execution_count": 33,
   "id": "0ce39b57",
   "metadata": {},
   "outputs": [],
   "source": [
    "df = df[df['address_type'] != -1]"
   ]
  },
  {
   "cell_type": "code",
   "execution_count": 34,
   "id": "75e52ec1",
   "metadata": {},
   "outputs": [
    {
     "data": {
      "text/plain": [
       "address_hash    61427\n",
       "address_type    61427\n",
       "dtype: int64"
      ]
     },
     "execution_count": 34,
     "metadata": {},
     "output_type": "execute_result"
    }
   ],
   "source": [
    "df.count()"
   ]
  },
  {
   "cell_type": "code",
   "execution_count": 35,
   "id": "cd2c51ee",
   "metadata": {},
   "outputs": [],
   "source": [
    "count_0 = df[df['address_type'] == 0]\n",
    "count_1 = df[df['address_type'] == 1]"
   ]
  },
  {
   "cell_type": "code",
   "execution_count": 36,
   "id": "072eadb4",
   "metadata": {},
   "outputs": [
    {
     "data": {
      "text/plain": [
       "address_hash    51004\n",
       "address_type    51004\n",
       "dtype: int64"
      ]
     },
     "execution_count": 36,
     "metadata": {},
     "output_type": "execute_result"
    }
   ],
   "source": [
    "count_0.count()"
   ]
  },
  {
   "cell_type": "code",
   "execution_count": 37,
   "id": "27d54adc",
   "metadata": {},
   "outputs": [
    {
     "data": {
      "text/plain": [
       "address_hash    10423\n",
       "address_type    10423\n",
       "dtype: int64"
      ]
     },
     "execution_count": 37,
     "metadata": {},
     "output_type": "execute_result"
    }
   ],
   "source": [
    "count_1.count()"
   ]
  },
  {
   "cell_type": "code",
   "execution_count": 38,
   "id": "80a0636f",
   "metadata": {},
   "outputs": [],
   "source": [
    "count_0 = count_0.head(10000)"
   ]
  },
  {
   "cell_type": "code",
   "execution_count": 39,
   "id": "b4e8a411",
   "metadata": {},
   "outputs": [
    {
     "data": {
      "text/plain": [
       "address_hash    10000\n",
       "address_type    10000\n",
       "dtype: int64"
      ]
     },
     "execution_count": 39,
     "metadata": {},
     "output_type": "execute_result"
    }
   ],
   "source": [
    "count_0.count()"
   ]
  },
  {
   "cell_type": "code",
   "execution_count": null,
   "id": "2f2dcc56",
   "metadata": {},
   "outputs": [],
   "source": [
    "with ThreadPoolExecutor(max_workers=MAX_WORKERS) as executor:\n",
    "    futures = {executor.submit(process_wallet, wallet): wallet for wallet in count_1 if wallet not in processed_addresses}\n",
    "    for future in tqdm(as_completed(futures), total=len(futures)):\n",
    "        print(f\"[{future}/{len(count_1)}]\")\n",
    "        wallet = futures[future]\n",
    "        try:\n",
    "            result = future.result()\n",
    "            if result:\n",
    "                features.append(result)\n",
    "                # Simpan cache langsung\n",
    "                with open(CACHE_FILE, \"w\") as f:\n",
    "                    json.dump(features, f)\n",
    "        except Exception as e:\n",
    "            print(f\"Error in thread for {wallet}: {e}\")"
   ]
  }
 ],
 "metadata": {
  "kernelspec": {
   "display_name": "Python 3",
   "language": "python",
   "name": "python3"
  },
  "language_info": {
   "codemirror_mode": {
    "name": "ipython",
    "version": 3
   },
   "file_extension": ".py",
   "mimetype": "text/x-python",
   "name": "python",
   "nbconvert_exporter": "python",
   "pygments_lexer": "ipython3",
   "version": "3.10.9"
  }
 },
 "nbformat": 4,
 "nbformat_minor": 5
}
